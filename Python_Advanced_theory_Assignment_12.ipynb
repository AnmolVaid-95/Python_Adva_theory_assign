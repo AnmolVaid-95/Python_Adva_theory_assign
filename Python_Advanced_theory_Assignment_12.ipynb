{
 "cells": [
  {
   "cell_type": "markdown",
   "id": "ad04670d",
   "metadata": {},
   "source": [
    "Q1. Does assigning a value to a string's indexed character violate Python's string immutability?\n",
    "\n",
    "\n",
    "\n",
    "Q2. Does using the += operator to concatenate strings violate Python's string immutability? Why or why not?\n",
    "\n",
    "\n",
    "\n",
    "Q3. In Python, how many different ways are there to index a character?\n",
    "\n",
    "\n",
    "\n",
    "Q4. What is the relationship between indexing and slicing?\n",
    "\n",
    "\n",
    "\n",
    "Q5. What is an indexed character's exact data type? What is the data form of a slicing-generated substring?\n",
    "\n",
    "\n",
    "\n",
    "Q6. What is the relationship between string and character \"types\" in Python?\n",
    "\n",
    "\n",
    "\n",
    "Q7. Identify at least two operators and one method that allow you to combine one or more smaller strings to create a larger string.\n",
    "\n",
    "\n",
    "\n",
    "Q8. What is the benefit of first checking the target string with in or not in before using the index method to find a substring?\n",
    "\n",
    "\n",
    "\n",
    "Q9. Which operators and built-in string methods produce simple Boolean (true/false) results?\n"
   ]
  },
  {
   "cell_type": "markdown",
   "id": "11e57781",
   "metadata": {},
   "source": [
    "Q1. Does assigning a value to a string's indexed character violate Python's string immutability?"
   ]
  },
  {
   "cell_type": "markdown",
   "id": "e0dacfa0",
   "metadata": {},
   "source": [
    "Ans. Strings are immutable as shown below."
   ]
  },
  {
   "cell_type": "code",
   "execution_count": 2,
   "id": "03563727",
   "metadata": {},
   "outputs": [],
   "source": [
    "a = 'anmol'"
   ]
  },
  {
   "cell_type": "code",
   "execution_count": 4,
   "id": "33232718",
   "metadata": {},
   "outputs": [
    {
     "ename": "TypeError",
     "evalue": "'str' object does not support item assignment",
     "output_type": "error",
     "traceback": [
      "\u001b[1;31m---------------------------------------------------------------------------\u001b[0m",
      "\u001b[1;31mTypeError\u001b[0m                                 Traceback (most recent call last)",
      "\u001b[1;32m<ipython-input-4-24746fa06516>\u001b[0m in \u001b[0;36m<module>\u001b[1;34m\u001b[0m\n\u001b[1;32m----> 1\u001b[1;33m \u001b[0ma\u001b[0m\u001b[1;33m[\u001b[0m\u001b[1;36m0\u001b[0m\u001b[1;33m]\u001b[0m \u001b[1;33m=\u001b[0m \u001b[1;34m'l'\u001b[0m\u001b[1;33m\u001b[0m\u001b[1;33m\u001b[0m\u001b[0m\n\u001b[0m",
      "\u001b[1;31mTypeError\u001b[0m: 'str' object does not support item assignment"
     ]
    }
   ],
   "source": [
    "a[0] = 'l'"
   ]
  },
  {
   "cell_type": "code",
   "execution_count": null,
   "id": "1b097921",
   "metadata": {},
   "outputs": [],
   "source": []
  },
  {
   "cell_type": "markdown",
   "id": "5edb9fa2",
   "metadata": {},
   "source": [
    "Q2. Does using the += operator to concatenate strings violate Python's string immutability? Why or why not?"
   ]
  },
  {
   "cell_type": "markdown",
   "id": "8bb626ba",
   "metadata": {},
   "source": [
    "Ans. No it is not. when we do += the result points to a new string."
   ]
  },
  {
   "cell_type": "code",
   "execution_count": null,
   "id": "12edc74c",
   "metadata": {},
   "outputs": [],
   "source": []
  },
  {
   "cell_type": "markdown",
   "id": "184016df",
   "metadata": {},
   "source": [
    "Q3. In Python, how many different ways are there to index a character?"
   ]
  },
  {
   "cell_type": "markdown",
   "id": "8b7b5937",
   "metadata": {},
   "source": [
    "Ans. \n",
    "\n",
    "We can access characters in a String in Two ways :\n",
    "\n",
    "1. Accessing Characters by Positive Index Number.\n",
    "\n",
    "\n",
    "2. Accessing Characters by Negative Index Numbe"
   ]
  },
  {
   "cell_type": "code",
   "execution_count": null,
   "id": "575aeecc",
   "metadata": {},
   "outputs": [],
   "source": []
  },
  {
   "cell_type": "markdown",
   "id": "b3f09664",
   "metadata": {},
   "source": [
    "Q4. What is the relationship between indexing and slicing?"
   ]
  },
  {
   "cell_type": "markdown",
   "id": "6b56096c",
   "metadata": {},
   "source": [
    "Ans. \n",
    "\n",
    "1. Slicing in Python is a feature that enables accessing parts of sequence. In slicing string, we create a substring, which is essentially a string that exists within another string. We use slicing when we require a part of string and not the complete string.\n",
    "\n",
    "\n",
    "2. We need to know index in order to perform the slicing as per our reqiurements."
   ]
  },
  {
   "cell_type": "code",
   "execution_count": null,
   "id": "aec24917",
   "metadata": {},
   "outputs": [],
   "source": []
  },
  {
   "cell_type": "markdown",
   "id": "0c2275a0",
   "metadata": {},
   "source": [
    "Q5. What is an indexed character's exact data type? What is the data form of a slicing-generated substring?"
   ]
  },
  {
   "cell_type": "markdown",
   "id": "2c8894c6",
   "metadata": {},
   "source": [
    "Ans. It is of  same datatype as that the orginal entity is. data form of a slicing-generated substring is of same data type as shown below."
   ]
  },
  {
   "cell_type": "code",
   "execution_count": 9,
   "id": "ecbd0acd",
   "metadata": {},
   "outputs": [],
   "source": [
    "a = 'Anmol Vaid'"
   ]
  },
  {
   "cell_type": "code",
   "execution_count": 11,
   "id": "680ee41e",
   "metadata": {},
   "outputs": [
    {
     "data": {
      "text/plain": [
       "str"
      ]
     },
     "execution_count": 11,
     "metadata": {},
     "output_type": "execute_result"
    }
   ],
   "source": [
    "type(a[0])"
   ]
  },
  {
   "cell_type": "code",
   "execution_count": 10,
   "id": "ea56205e",
   "metadata": {},
   "outputs": [
    {
     "data": {
      "text/plain": [
       "str"
      ]
     },
     "execution_count": 10,
     "metadata": {},
     "output_type": "execute_result"
    }
   ],
   "source": [
    "type(a[3:7])"
   ]
  },
  {
   "cell_type": "code",
   "execution_count": null,
   "id": "942faa57",
   "metadata": {},
   "outputs": [],
   "source": []
  },
  {
   "cell_type": "markdown",
   "id": "1c98eded",
   "metadata": {},
   "source": [
    "Q6. What is the relationship between string and character \"types\" in Python?"
   ]
  },
  {
   "cell_type": "markdown",
   "id": "43de9451",
   "metadata": {},
   "source": [
    "Ans. In Python, Strings are arrays of bytes representing Unicode characters. However, Python does not have a character data type, a single character is simply a string with a length of 1. Square brackets can be used to access elements of the string."
   ]
  },
  {
   "cell_type": "code",
   "execution_count": null,
   "id": "bd550fec",
   "metadata": {},
   "outputs": [],
   "source": []
  },
  {
   "cell_type": "markdown",
   "id": "2eb6a514",
   "metadata": {},
   "source": [
    "Q7. Identify at least two operators and one method that allow you to combine one or more smaller strings to create a larger string."
   ]
  },
  {
   "cell_type": "markdown",
   "id": "77dfaea9",
   "metadata": {},
   "source": [
    "Ans. Two operator to combine strings:\n",
    "1. +\n",
    "2. * \n",
    "\n",
    "\n",
    "1 method : join"
   ]
  },
  {
   "cell_type": "code",
   "execution_count": null,
   "id": "15f9d07e",
   "metadata": {},
   "outputs": [],
   "source": []
  },
  {
   "cell_type": "markdown",
   "id": "dca7cf08",
   "metadata": {},
   "source": [
    "Q8. What is the benefit of first checking the target string with in or not in before using the index method to find a substring?"
   ]
  },
  {
   "cell_type": "markdown",
   "id": "db055c49",
   "metadata": {},
   "source": [
    "Ans. This helps to reduce the program complexity and provide us optimum solution for the program."
   ]
  },
  {
   "cell_type": "code",
   "execution_count": null,
   "id": "01724d61",
   "metadata": {},
   "outputs": [],
   "source": []
  },
  {
   "cell_type": "markdown",
   "id": "18c5b058",
   "metadata": {},
   "source": [
    "Q9. Which operators and built-in string methods produce simple Boolean (true/false) results?"
   ]
  },
  {
   "cell_type": "markdown",
   "id": "88c3a5de",
   "metadata": {},
   "source": [
    "Ans.  Below is list of methods that can be used to return true/false:\n",
    "\n",
    "isalnum()\tReturns True if all characters in the string are alphanumeric\n",
    "\n",
    "\n",
    "isalpha()\tReturns True if all characters in the string are in the alphabet\n",
    "\n",
    "\n",
    "isascii()\tReturns True if all characters in the string are ascii characters\n",
    "\n",
    "\n",
    "isdecimal()\tReturns True if all characters in the string are decimals\n",
    "\n",
    "\n",
    "isdigit()\tReturns True if all characters in the string are digits\n",
    "\n",
    "\n",
    "isidentifier()\tReturns True if the string is an identifier\n",
    "\n",
    "\n",
    "islower()\tReturns True if all characters in the string are lower case\n",
    "\n",
    "\n",
    "isnumeric()\tReturns True if all characters in the string are numeric\n",
    "\n",
    "\n",
    "isprintable()\tReturns True if all characters in the string are printable\n",
    "\n",
    "\n",
    "isspace()\tReturns True if all characters in the string are whitespaces\n",
    "\n",
    "\n",
    "istitle()\tReturns True if the string follows the rules of a title\n",
    "\n",
    "\n",
    "isupper()\tReturns True if all characters in the string are upper case\n",
    "\n"
   ]
  },
  {
   "cell_type": "code",
   "execution_count": null,
   "id": "1e96d6cb",
   "metadata": {},
   "outputs": [],
   "source": []
  },
  {
   "cell_type": "code",
   "execution_count": null,
   "id": "6e0c2603",
   "metadata": {},
   "outputs": [],
   "source": []
  },
  {
   "cell_type": "code",
   "execution_count": null,
   "id": "8458f8b9",
   "metadata": {},
   "outputs": [],
   "source": []
  },
  {
   "cell_type": "code",
   "execution_count": null,
   "id": "625f263f",
   "metadata": {},
   "outputs": [],
   "source": []
  },
  {
   "cell_type": "code",
   "execution_count": null,
   "id": "3f20dab5",
   "metadata": {},
   "outputs": [],
   "source": []
  }
 ],
 "metadata": {
  "kernelspec": {
   "display_name": "Python 3",
   "language": "python",
   "name": "python3"
  },
  "language_info": {
   "codemirror_mode": {
    "name": "ipython",
    "version": 3
   },
   "file_extension": ".py",
   "mimetype": "text/x-python",
   "name": "python",
   "nbconvert_exporter": "python",
   "pygments_lexer": "ipython3",
   "version": "3.8.8"
  }
 },
 "nbformat": 4,
 "nbformat_minor": 5
}
