{
 "cells": [
  {
   "cell_type": "markdown",
   "id": "29543bec",
   "metadata": {},
   "source": [
    "Q1. What is the meaning of multiple inheritance?\n",
    "\n",
    "\n",
    "\n",
    "Q2. What is the concept of delegation?\n",
    "\n",
    "\n",
    "\n",
    "Q3. What is the concept of composition?\n",
    "\n",
    "\n",
    "\n",
    "Q4. What are bound methods and how do we use them?\n",
    "\n",
    "\n",
    "\n",
    "Q5. What is the purpose of pseudoprivate attributes?\n"
   ]
  },
  {
   "cell_type": "markdown",
   "id": "212be95f",
   "metadata": {},
   "source": [
    "Q1. What is the meaning of multiple inheritance?"
   ]
  },
  {
   "cell_type": "markdown",
   "id": "0dab2c8e",
   "metadata": {},
   "source": [
    "Ans. \n",
    "\n",
    "When a class is derived from more than one base class it is called multiple Inheritance. The derived class inherits all the features of the base case.\n",
    "\n",
    "\n",
    "Syntax:\n",
    "\n",
    "Class Base1:\n",
    "\n",
    "       Body of the class\n",
    "\n",
    "Class Base2:\n",
    "\n",
    "     Body of the class\n",
    "\n",
    "Class Derived(Base1, Base2):\n",
    "\n",
    "     Body of the class"
   ]
  },
  {
   "cell_type": "code",
   "execution_count": null,
   "id": "b94d19c5",
   "metadata": {},
   "outputs": [],
   "source": []
  },
  {
   "cell_type": "markdown",
   "id": "cb960d7c",
   "metadata": {},
   "source": [
    "Q2. What is the concept of delegation?"
   ]
  },
  {
   "cell_type": "markdown",
   "id": "db7da3bd",
   "metadata": {},
   "source": [
    "Ans.\n",
    "\n",
    "Delegation is an object oriented technique. Let's say you have an object x and want to change the behaviour of just one of its methods. You can create a new class that provides a new implementation of the method you're interested in changing and delegates all other methods to the corresponding method of x"
   ]
  },
  {
   "cell_type": "code",
   "execution_count": null,
   "id": "bd9520ba",
   "metadata": {},
   "outputs": [],
   "source": []
  },
  {
   "cell_type": "markdown",
   "id": "fb46d1c6",
   "metadata": {},
   "source": [
    "Q3. What is the concept of composition?"
   ]
  },
  {
   "cell_type": "markdown",
   "id": "654071e7",
   "metadata": {},
   "source": [
    "Ans. \n",
    "\n",
    "Composition is a concept that models a has a relationship. It enables creating complex types by combining objects of other types. This means that a class Composite can contain an object of another class Component. This relationship means that a Composite has a Component.\n",
    "\n",
    "Composition is represented through a line with a diamond at the composite class pointing to the component class. The composite side can express the cardinality of the relationship. The cardinality indicates the number or valid range of Component instances the Composite class will contain."
   ]
  },
  {
   "cell_type": "code",
   "execution_count": null,
   "id": "20d6bcbb",
   "metadata": {},
   "outputs": [],
   "source": []
  },
  {
   "cell_type": "markdown",
   "id": "a7a6bcfd",
   "metadata": {},
   "source": [
    "Q4. What are bound methods and how do we use them?"
   ]
  },
  {
   "cell_type": "markdown",
   "id": "f8597a53",
   "metadata": {},
   "source": [
    "Ans.\n",
    "\n",
    "A bound method is the one which is dependent on the instance of the class as the first argument. It passes the instance as the first argument which is used to access the variables and functions. In Python 3 and newer versions of python, all functions in the class are by default bound methods."
   ]
  },
  {
   "cell_type": "code",
   "execution_count": null,
   "id": "f75aeac2",
   "metadata": {},
   "outputs": [],
   "source": []
  },
  {
   "cell_type": "markdown",
   "id": "38862895",
   "metadata": {},
   "source": [
    "Q5. What is the purpose of pseudoprivate attributes?"
   ]
  },
  {
   "cell_type": "markdown",
   "id": "eb51742d",
   "metadata": {},
   "source": [
    "Ans. \n",
    "\n",
    "Python also includes the notion of name \"mangling\" (i.e., expansion), to localize some names in classes. This is sometimes misleadingly called private attributes really, it's just a way to localize a name to the class that created it, and does not prevent access by code outside the class. That is, this feature is mostly intended to avoid namespace collisions in instances, not to restrict access to names in general.\n",
    "\n",
    "\n",
    "Pseudo-private names are an advanced feature, entirely optional, and probably won't be very useful until you start writing large class hierarchies in multi-programmer projects. But because you may see this feature in other people's code, you need to be somewhat aware of it even if you don't use it in your own."
   ]
  },
  {
   "cell_type": "code",
   "execution_count": null,
   "id": "7528991a",
   "metadata": {},
   "outputs": [],
   "source": []
  },
  {
   "cell_type": "code",
   "execution_count": null,
   "id": "7f03bda1",
   "metadata": {},
   "outputs": [],
   "source": []
  },
  {
   "cell_type": "code",
   "execution_count": null,
   "id": "76e4054a",
   "metadata": {},
   "outputs": [],
   "source": []
  },
  {
   "cell_type": "code",
   "execution_count": null,
   "id": "dba9dec6",
   "metadata": {},
   "outputs": [],
   "source": []
  }
 ],
 "metadata": {
  "kernelspec": {
   "display_name": "Python 3",
   "language": "python",
   "name": "python3"
  },
  "language_info": {
   "codemirror_mode": {
    "name": "ipython",
    "version": 3
   },
   "file_extension": ".py",
   "mimetype": "text/x-python",
   "name": "python",
   "nbconvert_exporter": "python",
   "pygments_lexer": "ipython3",
   "version": "3.8.8"
  }
 },
 "nbformat": 4,
 "nbformat_minor": 5
}
