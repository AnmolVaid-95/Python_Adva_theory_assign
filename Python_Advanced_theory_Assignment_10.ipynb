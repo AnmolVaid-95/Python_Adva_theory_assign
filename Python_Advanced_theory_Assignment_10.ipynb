{
 "cells": [
  {
   "cell_type": "markdown",
   "id": "6ba35e72",
   "metadata": {},
   "source": [
    "Q1. What is the difference between __getattr__ and __getattribute__?\n",
    "\n",
    "\n",
    "\n",
    "Q2. What is the difference between properties and descriptors?\n",
    "\n",
    "\n",
    "\n",
    "Q3. What are the key differences in functionality between __getattr__ and __getattribute__, as well as properties and descriptors?\n"
   ]
  },
  {
   "cell_type": "markdown",
   "id": "bb9c2cb4",
   "metadata": {},
   "source": [
    "Q1. What is the difference between getattr and getattribute?"
   ]
  },
  {
   "cell_type": "markdown",
   "id": "851f9dbd",
   "metadata": {},
   "source": [
    "Ans. \n",
    "\n",
    "1. getattribute: Is used to retrieve an attribute from an instance. It captures every attempt to access an instance attribute by using dot notation or getattr() built-in function.\n",
    "\n",
    "\n",
    "2. getattr: Is executed as the last resource when attribute is not found in an object. You can choose to return a default value or to raise AttributeError."
   ]
  },
  {
   "cell_type": "code",
   "execution_count": null,
   "id": "346c0361",
   "metadata": {},
   "outputs": [],
   "source": []
  },
  {
   "cell_type": "markdown",
   "id": "e9cdcd3f",
   "metadata": {},
   "source": [
    "Q2. What is the difference between properties and descriptors?"
   ]
  },
  {
   "cell_type": "markdown",
   "id": "ac4a02ae",
   "metadata": {},
   "source": [
    "Ans. \n",
    "\n",
    "1. Descriptors are a low-level mechanism that lets you hook into an object's attributes being accessed. \n",
    "\n",
    "2. Properties are a high-level application of this; that is, properties are implemented using descriptors. Or, better yet, properties are descriptors that are already provided for you in the standard library."
   ]
  },
  {
   "cell_type": "code",
   "execution_count": null,
   "id": "72c50b68",
   "metadata": {},
   "outputs": [],
   "source": []
  },
  {
   "cell_type": "markdown",
   "id": "473f8660",
   "metadata": {},
   "source": [
    "Q3. What are the key differences in functionality between getattr and getattribute, as well as properties and descriptors?"
   ]
  },
  {
   "cell_type": "markdown",
   "id": "bd3283fa",
   "metadata": {},
   "source": [
    "Ans.  \n",
    "\n",
    "1. getattribute: Is used to retrieve an attribute from an instance. It captures every attempt to access an instance attribute by using dot notation or getattr() built-in function.\n",
    "\n",
    "\n",
    "2. getattr: Is executed as the last resource when attribute is not found in an object. You can choose to return a default value or to raise AttributeError.\n",
    "\n",
    "\n",
    "3. Descriptors are a low-level mechanism that lets you hook into an object's attributes being accessed.\n",
    "\n",
    "\n",
    "4. Properties are a high-level application of this; that is, properties are implemented using descriptors. Or, better yet, properties are descriptors that are already provided for you in the standard library."
   ]
  },
  {
   "cell_type": "code",
   "execution_count": null,
   "id": "3310ecca",
   "metadata": {},
   "outputs": [],
   "source": []
  }
 ],
 "metadata": {
  "kernelspec": {
   "display_name": "Python 3",
   "language": "python",
   "name": "python3"
  },
  "language_info": {
   "codemirror_mode": {
    "name": "ipython",
    "version": 3
   },
   "file_extension": ".py",
   "mimetype": "text/x-python",
   "name": "python",
   "nbconvert_exporter": "python",
   "pygments_lexer": "ipython3",
   "version": "3.8.8"
  }
 },
 "nbformat": 4,
 "nbformat_minor": 5
}
