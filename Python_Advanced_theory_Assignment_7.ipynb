{
 "cells": [
  {
   "cell_type": "markdown",
   "id": "fd1850f4",
   "metadata": {},
   "source": [
    "Q1. What is the purpose of the try statement?\n",
    "\n",
    "\n",
    "\n",
    "Q2. What are the two most popular try statement variations?\n",
    "\n",
    "\n",
    "\n",
    "Q3. What is the purpose of the raise statement?\n",
    "\n",
    "\n",
    "\n",
    "Q4. What does the assert statement do, and what other statement is it like?\n",
    "\n",
    "\n",
    "\n",
    "Q5. What is the purpose of the with/as argument, and what other statement is it like?\n"
   ]
  },
  {
   "cell_type": "markdown",
   "id": "b89dc50e",
   "metadata": {},
   "source": [
    "Q1. What is the purpose of the try statement?"
   ]
  },
  {
   "cell_type": "markdown",
   "id": "17879099",
   "metadata": {},
   "source": [
    "Ans. \n",
    "\n",
    "A try statement includes keyword try, followed by a colon (:) and a suite of code in which exceptions may occur. It has one or more clauses.\n",
    "\n",
    "During the execution of the try statement, if no exceptions occurred then, the interpreter ignores the exception handlers for that specific try statement.\n",
    "\n",
    "In case, if any exception occurs in a try suite, the try suite expires and program control transfers to the matching except handler following the try suite."
   ]
  },
  {
   "cell_type": "code",
   "execution_count": null,
   "id": "85cdb6e9",
   "metadata": {},
   "outputs": [],
   "source": []
  },
  {
   "cell_type": "markdown",
   "id": "b7e79f14",
   "metadata": {},
   "source": [
    "Q2. What are the two most popular try statement variations?"
   ]
  },
  {
   "cell_type": "markdown",
   "id": "a87fcc2c",
   "metadata": {},
   "source": [
    "Ans. \n",
    "\n",
    "1. Python provides a keyword finally, which is always executed after try and except blocks. \n",
    "\n",
    "\n",
    "2. Else clause on the try-except block\n",
    "\n"
   ]
  },
  {
   "cell_type": "code",
   "execution_count": null,
   "id": "16bf3b0a",
   "metadata": {},
   "outputs": [],
   "source": []
  },
  {
   "cell_type": "markdown",
   "id": "f62b9391",
   "metadata": {},
   "source": [
    "Q3. What is the purpose of the raise statement?"
   ]
  },
  {
   "cell_type": "markdown",
   "id": "310442b4",
   "metadata": {},
   "source": [
    "Ans.  Raise allows you to throw an exception at any time."
   ]
  },
  {
   "cell_type": "code",
   "execution_count": null,
   "id": "8ecd6556",
   "metadata": {},
   "outputs": [],
   "source": []
  },
  {
   "cell_type": "markdown",
   "id": "6a3e8ebf",
   "metadata": {},
   "source": [
    "Q4. What does the assert statement do, and what other statement is it like?"
   ]
  },
  {
   "cell_type": "markdown",
   "id": "69a592ae",
   "metadata": {},
   "source": [
    "Ans. Assert enables you to verify if a certain condition is met and throw an exception if it isn’t."
   ]
  },
  {
   "cell_type": "code",
   "execution_count": null,
   "id": "d196ae07",
   "metadata": {},
   "outputs": [],
   "source": []
  },
  {
   "cell_type": "markdown",
   "id": "da482c5d",
   "metadata": {},
   "source": [
    "Q5. What is the purpose of the with/as argument, and what other statement is it like?"
   ]
  },
  {
   "cell_type": "markdown",
   "id": "dc0f9cf5",
   "metadata": {},
   "source": [
    "Ans. \n",
    "\n",
    "1. 'with' statement in Python is used in exception handling to make the code cleaner and much more readable. It simplifies the management of common resources like file streams.\n",
    "\n",
    "2. 'as' like an alias. If you are importing a library or a module into a program, but want to use different name for some reason (too long, confuses with a useful variable, is weird), then as can be used to provide a different name to it."
   ]
  },
  {
   "cell_type": "code",
   "execution_count": null,
   "id": "4fc2f8ab",
   "metadata": {},
   "outputs": [],
   "source": []
  }
 ],
 "metadata": {
  "kernelspec": {
   "display_name": "Python 3",
   "language": "python",
   "name": "python3"
  },
  "language_info": {
   "codemirror_mode": {
    "name": "ipython",
    "version": 3
   },
   "file_extension": ".py",
   "mimetype": "text/x-python",
   "name": "python",
   "nbconvert_exporter": "python",
   "pygments_lexer": "ipython3",
   "version": "3.8.8"
  }
 },
 "nbformat": 4,
 "nbformat_minor": 5
}
