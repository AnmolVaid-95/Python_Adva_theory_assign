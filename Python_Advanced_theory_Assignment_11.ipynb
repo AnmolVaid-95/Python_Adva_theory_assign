{
 "cells": [
  {
   "cell_type": "markdown",
   "id": "897f58a3",
   "metadata": {},
   "source": [
    "Q1. What is the concept of a metaclass?\n",
    "\n",
    "\n",
    "\n",
    "Q2. What is the best way to declare a class's metaclass?\n",
    "\n",
    "\n",
    "\n",
    "Q3. How do class decorators overlap with metaclasses for handling classes?\n",
    "\n",
    "\n",
    "\n",
    "Q4. How do class decorators overlap with metaclasses for handling instances?\n"
   ]
  },
  {
   "cell_type": "markdown",
   "id": "fc311d6d",
   "metadata": {},
   "source": [
    "Q1. What is the concept of a metaclass?"
   ]
  },
  {
   "cell_type": "markdown",
   "id": "1899c1e1",
   "metadata": {},
   "source": [
    "Ans. A metaclass in Python is a class of a class that defines how a class behaves. A class is itself an instance of a metaclass. A class in Python defines how the instance of the class will behave. In order to understand metaclasses well, one needs to have prior experience working with Python classes."
   ]
  },
  {
   "cell_type": "code",
   "execution_count": null,
   "id": "9c6e4046",
   "metadata": {},
   "outputs": [],
   "source": []
  },
  {
   "cell_type": "markdown",
   "id": "9d995125",
   "metadata": {},
   "source": [
    "Q2. What is the best way to declare a class's metaclass?"
   ]
  },
  {
   "cell_type": "markdown",
   "id": "de1753c2",
   "metadata": {},
   "source": [
    "Ans. \n",
    "\n",
    "1. When defining a class and no metaclass is defined the default type metaclass will be used. If a metaclass is given and it is not an instance of type(), then it is used directly as the metaclass.\n",
    "\n",
    "\n",
    "2. __new__ is used when one wants to define dict or bases tuples before the class is created. The return value of __new__is usually an instance of cls. __new__ allows subclasses of immutable types to customize instance creation. It can be overridden in custom metaclasses to customize class creation. __init__ is usually called after the object has been created so as to initialize it.\n",
    "\n",
    "\n",
    "\n",
    "class MetaOne(type):\n",
    "\n",
    "    def __new__(cls, name, bases, dict):\n",
    "    \n",
    "        pass\n",
    "        \n",
    "\n",
    "\n",
    "class MetaTwo(type):\n",
    "\n",
    "    def __init__(self, name, bases, dict):\n",
    "    \n",
    "        pass\n"
   ]
  },
  {
   "cell_type": "code",
   "execution_count": null,
   "id": "8326e37f",
   "metadata": {},
   "outputs": [],
   "source": []
  },
  {
   "cell_type": "markdown",
   "id": "0032fc8a",
   "metadata": {},
   "source": [
    "Q3. How do class decorators overlap with metaclasses for handling classes?"
   ]
  },
  {
   "cell_type": "markdown",
   "id": "819b858c",
   "metadata": {},
   "source": [
    "Ans. \n",
    "\n",
    "Decorators are much, much simpler and more limited and therefore should be preferred whenever the desired effect can be achieved with either a metaclass or a class decorator.\n",
    "\n",
    "Anything you can do with a class decorator, you can of course do with a custom metaclass ,just apply the functionality of the \"decorator function\", i.e., the one that takes a class object and modifies it, in the course of the metaclass's __new__ or __init__ that make the class object."
   ]
  },
  {
   "cell_type": "code",
   "execution_count": null,
   "id": "3dbb7f3d",
   "metadata": {},
   "outputs": [],
   "source": []
  },
  {
   "cell_type": "markdown",
   "id": "d67844a4",
   "metadata": {},
   "source": [
    "Q4. How do class decorators overlap with metaclasses for handling instances?"
   ]
  },
  {
   "cell_type": "markdown",
   "id": "fa79a465",
   "metadata": {},
   "source": [
    "Ans. Decorators are much, much simpler and more limited and therefore should be preferred whenever the desired effect can be achieved with either a metaclass or a class decorator.\n",
    "\n",
    "Anything you can do with a class decorator, you can of course do with a custom metaclass ,just apply the functionality of the \"decorator function\", i.e., the one that takes a class object and modifies it, in the course of the metaclass's __new__ or __init__ that make the class object."
   ]
  },
  {
   "cell_type": "code",
   "execution_count": null,
   "id": "bcf8b6e8",
   "metadata": {},
   "outputs": [],
   "source": []
  }
 ],
 "metadata": {
  "kernelspec": {
   "display_name": "Python 3",
   "language": "python",
   "name": "python3"
  },
  "language_info": {
   "codemirror_mode": {
    "name": "ipython",
    "version": 3
   },
   "file_extension": ".py",
   "mimetype": "text/x-python",
   "name": "python",
   "nbconvert_exporter": "python",
   "pygments_lexer": "ipython3",
   "version": "3.8.8"
  }
 },
 "nbformat": 4,
 "nbformat_minor": 5
}
