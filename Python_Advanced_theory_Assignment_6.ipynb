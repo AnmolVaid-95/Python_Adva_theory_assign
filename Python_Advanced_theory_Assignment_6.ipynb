{
 "cells": [
  {
   "cell_type": "markdown",
   "id": "96384b89",
   "metadata": {},
   "source": [
    "Q1. Describe three applications for exception processing.\n",
    "\n",
    "\n",
    "\n",
    "Q2. What happens if you don't do something extra to treat an exception?\n",
    "\n",
    "\n",
    "\n",
    "Q3. What are your options for recovering from an exception in your script?\n",
    "\n",
    "\n",
    "\n",
    "Q4. Describe two methods for triggering exceptions in your script.\n",
    "\n",
    "\n",
    "\n",
    "Q5. Identify two methods for specifying actions to be executed at termination time, regardless of whether or not an exception exists.\n"
   ]
  },
  {
   "cell_type": "markdown",
   "id": "4d7c52e7",
   "metadata": {},
   "source": [
    "Q1. Describe three applications for exception processing."
   ]
  },
  {
   "cell_type": "markdown",
   "id": "c7ff8424",
   "metadata": {},
   "source": [
    "Ans. \n",
    "\n",
    "1. You provide a web form for users to fill in and submit.but incase there are a lot of conditions to be handled and the conditions keeps changing periodically,you use exception handling to simplify the process\n",
    "\n",
    "\n",
    "\n",
    "2. Database connectivity uses exception handling this is because the reason for database connectivity failure cannot be predicted and handled as it can be caused by many variables such as power failure, unreachable server,failure at client front/back end and so on.\n",
    "\n",
    "\n",
    "\n",
    "3. Arithmetic exceptions such as division by zero and so on.\n",
    "\n",
    "\n",
    "\n",
    "4. operating systems use exception handling to resolve deadlocks,recover from crash and so forth"
   ]
  },
  {
   "cell_type": "code",
   "execution_count": null,
   "id": "2b0d155b",
   "metadata": {},
   "outputs": [],
   "source": []
  },
  {
   "cell_type": "markdown",
   "id": "52daa986",
   "metadata": {},
   "source": [
    "Q2. What happens if you don't do something extra to treat an exception?"
   ]
  },
  {
   "cell_type": "markdown",
   "id": "1c7d02aa",
   "metadata": {},
   "source": [
    "Ans.  \n",
    "\n",
    "1. If an exception is not caught (with a catch block), the runtime system will abort the program (i.e. crash) and an exception message will print to the console. The message typically includes:\n",
    "- name of exception type\n",
    "- short description\n",
    "- stack trace\n",
    "\n",
    "\n",
    "2. For a checked exception, a method must either catch an exception (handle internally) or claim it (declare that it will be thrown)\n",
    "- This is enforced by compiler.\n",
    "- Claiming an exception is giving information to the caller, so that they will know to catch it!\n",
    "\n",
    "\n",
    "3. For an unchecked exception (runtime exception), there's no compiler enforcement.\n",
    "- Runtime exceptions could occur anywhere, arising automatically.\n",
    "- Usually can be fixed by better coding\n",
    "- Examples: Division by zero, array index out of bounds, null pointer exception"
   ]
  },
  {
   "cell_type": "code",
   "execution_count": null,
   "id": "8db275c1",
   "metadata": {},
   "outputs": [],
   "source": []
  },
  {
   "cell_type": "markdown",
   "id": "410413df",
   "metadata": {},
   "source": [
    "Q3. What are your options for recovering from an exception in your script?"
   ]
  },
  {
   "cell_type": "markdown",
   "id": "7aa0ce66",
   "metadata": {},
   "source": [
    "Ans.  We can use exception to recover from an exception from script as shown below.\n",
    "\n",
    "try:\n",
    "    num = int(input(\"Enter the number :\"))\n",
    "    result = 5/num\n",
    "\n",
    "except Exception as e:\n",
    "    print(\"Your error is :\",e)"
   ]
  },
  {
   "cell_type": "code",
   "execution_count": null,
   "id": "8d4e6807",
   "metadata": {},
   "outputs": [],
   "source": []
  },
  {
   "cell_type": "markdown",
   "id": "ade4f5cd",
   "metadata": {},
   "source": [
    "Q4. Describe two methods for triggering exceptions in your script."
   ]
  },
  {
   "cell_type": "markdown",
   "id": "14bc7e90",
   "metadata": {},
   "source": [
    "Ans. We can use 'try' and 'raise' for recovering from an exception in your script.\n",
    "\n",
    "\n",
    "Try – This method catches the exceptions raised by the program\n",
    "\n",
    "\n",
    "Raise – Triggers an exception manually using custom exceptions"
   ]
  },
  {
   "cell_type": "code",
   "execution_count": null,
   "id": "e8176692",
   "metadata": {},
   "outputs": [],
   "source": []
  },
  {
   "cell_type": "markdown",
   "id": "ce6d2022",
   "metadata": {},
   "source": [
    "Q5. Identify two methods for specifying actions to be executed at termination time, regardless of whether or not an exception exists."
   ]
  },
  {
   "cell_type": "markdown",
   "id": "d41b8ff5",
   "metadata": {},
   "source": [
    "Ans. \n",
    "\n",
    "\n",
    "Catch blocks take one argument at a time, which is the type of exception that it is likely to catch. These arguments may range from a specific type of exception which can be varied to a catch-all category of exceptions.\n",
    "\n",
    "\n",
    "Finally block always executes irrespective of an exception being thrown or not. The final keyword allows you to create a block of code that follows a try-catch block. Finally, clause is optional. It is intended to define clean-up actions which should be that executed in all conditions."
   ]
  },
  {
   "cell_type": "code",
   "execution_count": null,
   "id": "6317fad8",
   "metadata": {},
   "outputs": [],
   "source": []
  },
  {
   "cell_type": "code",
   "execution_count": null,
   "id": "6462bddc",
   "metadata": {},
   "outputs": [],
   "source": []
  },
  {
   "cell_type": "code",
   "execution_count": null,
   "id": "065aac44",
   "metadata": {},
   "outputs": [],
   "source": []
  },
  {
   "cell_type": "code",
   "execution_count": null,
   "id": "75f3fabb",
   "metadata": {},
   "outputs": [],
   "source": []
  },
  {
   "cell_type": "code",
   "execution_count": null,
   "id": "6c2f593f",
   "metadata": {},
   "outputs": [],
   "source": []
  },
  {
   "cell_type": "code",
   "execution_count": null,
   "id": "420d52d3",
   "metadata": {},
   "outputs": [],
   "source": []
  },
  {
   "cell_type": "code",
   "execution_count": null,
   "id": "b8a340cd",
   "metadata": {},
   "outputs": [],
   "source": []
  },
  {
   "cell_type": "code",
   "execution_count": null,
   "id": "498f7f00",
   "metadata": {},
   "outputs": [],
   "source": []
  }
 ],
 "metadata": {
  "kernelspec": {
   "display_name": "Python 3",
   "language": "python",
   "name": "python3"
  },
  "language_info": {
   "codemirror_mode": {
    "name": "ipython",
    "version": 3
   },
   "file_extension": ".py",
   "mimetype": "text/x-python",
   "name": "python",
   "nbconvert_exporter": "python",
   "pygments_lexer": "ipython3",
   "version": "3.8.8"
  }
 },
 "nbformat": 4,
 "nbformat_minor": 5
}
