{
 "cells": [
  {
   "cell_type": "markdown",
   "id": "1fcc21bc",
   "metadata": {},
   "source": [
    "Q1. In Python 3.X, what are the names and functions of string object types?\n",
    "\n",
    "\n",
    "\n",
    "Q2. How do the string forms in Python 3.X vary in terms of operations?\n",
    "\n",
    "\n",
    "\n",
    "Q3. In 3.X, how do you put non-ASCII Unicode characters in a string?\n",
    "\n",
    "\n",
    "\n",
    "Q4. In Python 3.X, what are the key differences between text-mode and binary-mode files?\n",
    "\n",
    "\n",
    "\n",
    "Q5. How can you interpret a Unicode text file containing text encoded in a different encoding than your platform's default?\n",
    "\n",
    "\n",
    "\n",
    "Q6. What is the best way to make a Unicode text file in a particular encoding format?\n",
    "\n",
    "\n",
    "\n",
    "Q7. What qualifies ASCII text as a form of Unicode text?\n",
    "\n",
    "\n",
    "\n",
    "Q8. How much of an effect does the change in string types in Python 3.X have on your code?\n"
   ]
  },
  {
   "cell_type": "markdown",
   "id": "c85017d4",
   "metadata": {},
   "source": [
    "Q1. In Python 3.X, what are the names and functions of string object types?"
   ]
  },
  {
   "cell_type": "markdown",
   "id": "8525010b",
   "metadata": {},
   "source": [
    "Ans.\n",
    "\n",
    "Method\t                                         Description\n",
    "\n",
    "\n",
    "capitalize()\t                Converts the first character to upper case\n",
    "\n",
    "\n",
    "casefold()\tConverts string into lower case\n",
    "\n",
    "\n",
    "center()\tReturns a centered string\n",
    "\n",
    "\n",
    "count()\tReturns the number of times a specified value occurs in a string\n",
    "\n",
    "\n",
    "encode()\tReturns an encoded version of the string\n",
    "\n",
    "\n",
    "endswith()\tReturns true if the string ends with the specified value\n",
    "\n",
    "\n",
    "expandtabs()\tSets the tab size of the string\n",
    "\n",
    "\n",
    "find()\tSearches the string for a specified value and returns the position of where it was found\n",
    "\n",
    "\n",
    "format()\tFormats specified values in a string\n",
    "\n",
    "\n",
    "format_map()\tFormats specified values in a string\n",
    "\n",
    "\n",
    "index()\tSearches the string for a specified value and returns the position of where it was found\n",
    "\n",
    "\n",
    "isalnum()\tReturns True if all characters in the string are alphanumeric\n",
    "\n",
    "\n",
    "isalpha()\tReturns True if all characters in the string are in the alphabet\n",
    "\n",
    "\n",
    "isascii()\tReturns True if all characters in the string are ascii characters\n",
    "\n",
    "\n",
    "isdecimal()\tReturns True if all characters in the string are decimals\n",
    "\n",
    "\n",
    "isdigit()\tReturns True if all characters in the string are digits\n",
    "\n",
    "\n",
    "isidentifier()\tReturns True if the string is an identifier\n",
    "\n",
    "\n",
    "islower()\tReturns True if all characters in the string are lower case\n",
    "\n",
    "\n",
    "isnumeric()\tReturns True if all characters in the string are numeric\n",
    "\n",
    "\n",
    "isprintable()\tReturns True if all characters in the string are printable\n",
    "\n",
    "\n",
    "isspace()\tReturns True if all characters in the string are whitespaces\n",
    "\n",
    "\n",
    "istitle()\tReturns True if the string follows the rules of a title\n",
    "\n",
    "\n",
    "isupper()\tReturns True if all characters in the string are upper case\n",
    "\n",
    "\n",
    "join()\tJoins the elements of an iterable to the end of the string\n",
    "\n",
    "\n",
    "ljust()\tReturns a left justified version of the string\n",
    "\n",
    "\n",
    "lower()\tConverts a string into lower case\n",
    "\n",
    "\n",
    "lstrip()\tReturns a left trim version of the string\n",
    "\n",
    "\n",
    "maketrans()\tReturns a translation table to be used in translations\n",
    "\n",
    "\n",
    "partition()\tReturns a tuple where the string is parted into three parts\n",
    "\n",
    "\n",
    "replace()\tReturns a string where a specified value is replaced with a specified value\n",
    "\n",
    "\n",
    "rfind()\tSearches the string for a specified value and returns the last position of where it was found\n",
    "\n",
    "\n",
    "rindex()\tSearches the string for a specified value and returns the last position of where it was found\n",
    "\n",
    "\n",
    "rjust()\tReturns a right justified version of the string\n",
    "\n",
    "\n",
    "rpartition()\tReturns a tuple where the string is parted into three parts\n",
    "\n",
    "\n",
    "rsplit()\tSplits the string at the specified separator, and returns a list\n",
    "\n",
    "\n",
    "rstrip()\tReturns a right trim version of the string\n",
    "\n",
    "\n",
    "split()\tSplits the string at the specified separator, and returns a list\n",
    "\n",
    "\n",
    "splitlines()\tSplits the string at line breaks and returns a list\n",
    "\n",
    "\n",
    "startswith()\tReturns true if the string starts with the specified value\n",
    "\n",
    "\n",
    "strip()\tReturns a trimmed version of the string\n",
    "\n",
    "\n",
    "swapcase()\tSwaps cases, lower case becomes upper case and vice versa\n",
    "\n",
    "\n",
    "title()\tConverts the first character of each word to upper case\n",
    "\n",
    "\n",
    "translate()\tReturns a translated string\n",
    "\n",
    "\n",
    "upper()\tConverts a string into upper case\n",
    "\n",
    "\n",
    "zfill()\tFills the string with a specified number of 0 values at the beginning"
   ]
  },
  {
   "cell_type": "code",
   "execution_count": null,
   "id": "357600c6",
   "metadata": {},
   "outputs": [],
   "source": []
  },
  {
   "cell_type": "markdown",
   "id": "1787a66c",
   "metadata": {},
   "source": [
    "Q2. How do the string forms in Python 3.X vary in terms of operations?"
   ]
  },
  {
   "cell_type": "markdown",
   "id": "2a58589f",
   "metadata": {},
   "source": [
    "Ans. \n",
    "1. Python 3.0 uses the concepts of text and (binary) data instead of Unicode strings and 8-bit strings. All text is Unicode; however encoded Unicode is represented as binary data. The type used to hold text is str, the type used to hold data is bytes. The biggest difference with the 2.x situation is that any attempt to mix text and data in Python 3.0 raises TypeError, whereas if you were to mix Unicode and 8-bit strings in Python 2.x, it would work if the 8-bit string happened to contain only 7-bit (ASCII) bytes, but you would get UnicodeDecodeError if it contained non-ASCII values. \n",
    "\n",
    "\n",
    "2. The change is for the better, as in the 2.x world there were numerous bugs having to do with mixing encoded and unencoded text. To be prepared in Python 2.x, start using unicode for all unencoded text, and str for binary or encoded data only. Then the 2to3 tool will do most of the work for you.\n"
   ]
  },
  {
   "cell_type": "code",
   "execution_count": null,
   "id": "ceab6849",
   "metadata": {},
   "outputs": [],
   "source": []
  },
  {
   "cell_type": "markdown",
   "id": "e979cf5c",
   "metadata": {},
   "source": [
    "Q3. In 3.X, how do you put non-ASCII Unicode characters in a string?"
   ]
  },
  {
   "cell_type": "markdown",
   "id": "a22a898c",
   "metadata": {},
   "source": [
    "Ans. We can do that as shown below.\n",
    "\n",
    "unicode_string = u\"hello aåbäcö\"\n",
    "\n",
    "\n",
    "unicode_string.encode(\"ascii\", \"ignore\")"
   ]
  },
  {
   "cell_type": "code",
   "execution_count": null,
   "id": "3e0f9da0",
   "metadata": {},
   "outputs": [],
   "source": []
  },
  {
   "cell_type": "markdown",
   "id": "e39a6482",
   "metadata": {},
   "source": [
    "Q4. In Python 3.X, what are the key differences between text-mode and binary-mode files?"
   ]
  },
  {
   "cell_type": "markdown",
   "id": "f2ee52dd",
   "metadata": {},
   "source": [
    "Ans. \n",
    "\n",
    "1. Text Files- A file whose contents can be viewed using a text editor is called a text file. A text file is simply a sequence of ASCII or Unicode characters. Python programs, contents written in text editors are some of the example of text files.\n",
    "\n",
    "\n",
    "2. Binary Files-A binary file stores the data in the same way as as stored in thememory. The .exe files, mp3 file, image files, word documents are some of the examples of binary files. We can’t read a binary file using a text editor.\n"
   ]
  },
  {
   "cell_type": "code",
   "execution_count": null,
   "id": "1e54cd3a",
   "metadata": {},
   "outputs": [],
   "source": []
  },
  {
   "cell_type": "markdown",
   "id": "10b92496",
   "metadata": {},
   "source": [
    "Q5. How can you interpret a Unicode text file containing text encoded in a different encoding than your platform's default?"
   ]
  },
  {
   "cell_type": "markdown",
   "id": "0cae61af",
   "metadata": {},
   "source": [
    "Ans. Use the “latin-1” encoding to map byte values directly to the first 256 Unicode code points. The latin-1 encoding in Python implements ISO_8859-1:1987 which maps all possible byte values to the first 256 Unicode code points, and thus ensures decoding errors will never occur regardless of the configured error handler"
   ]
  },
  {
   "cell_type": "code",
   "execution_count": null,
   "id": "e5234470",
   "metadata": {},
   "outputs": [],
   "source": []
  },
  {
   "cell_type": "markdown",
   "id": "a5ec93e2",
   "metadata": {},
   "source": [
    "Q6. What is the best way to make a Unicode text file in a particular encoding format?"
   ]
  },
  {
   "cell_type": "markdown",
   "id": "28ccc920",
   "metadata": {},
   "source": [
    "Ans. Call str.encode(encoding) with encoding set to \"utf8\" to encode str. Call open(file, mode) to open a file with mode set to \"wb\" . \"wb\" writes to files in binary mode and preserves UTF-8 format. Call file.write(data) to write data to the file."
   ]
  },
  {
   "cell_type": "code",
   "execution_count": null,
   "id": "e2401862",
   "metadata": {},
   "outputs": [],
   "source": []
  },
  {
   "cell_type": "markdown",
   "id": "b4419dc3",
   "metadata": {},
   "source": [
    "Q7. What qualifies ASCII text as a form of Unicode text?"
   ]
  },
  {
   "cell_type": "markdown",
   "id": "adc0f01e",
   "metadata": {},
   "source": [
    "Ans. For backward compatibility, the first 128 Unicode code points represent the equivalent ASCII characters. Since UTF-8 encodes each of these characters with a single byte, any ASCII text is also a UTF-8 text. Unicode is a superset of ASCII."
   ]
  },
  {
   "cell_type": "code",
   "execution_count": null,
   "id": "f82d870c",
   "metadata": {},
   "outputs": [],
   "source": []
  },
  {
   "cell_type": "markdown",
   "id": "94ddfc8c",
   "metadata": {},
   "source": [
    "Q8. How much of an effect does the change in string types in Python 3.X have on your code?"
   ]
  },
  {
   "cell_type": "markdown",
   "id": "6d3b062a",
   "metadata": {},
   "source": [
    "Ans. \n",
    "\n",
    "1. Python 3.0 uses the concepts of text and (binary) data instead of Unicode strings and 8-bit strings. All text is Unicode; however encoded Unicode is represented as binary data. The type used to hold text is str, the type used to hold data is bytes. The biggest difference with the 2.x situation is that any attempt to mix text and data in Python 3.0 raises TypeError, whereas if you were to mix Unicode and 8-bit strings in Python 2.x, it would work if the 8-bit string happened to contain only 7-bit (ASCII) bytes, but you would get UnicodeDecodeError if it contained non-ASCII values. This value-specific behavior has caused numerous sad faces over the years.\n",
    "\n",
    "\n",
    "2. Files opened as text files (still the default mode for open()) always use an encoding to map between strings (in memory) and bytes (on disk). Binary files (opened with a b in the mode argument) always use bytes in memory. This means that if a file is opened using an incorrect mode or encoding, I/O will likely fail loudly, instead of silently producing incorrect data. It also means that even Unix users will have to specify the correct mode (text or binary) when opening a file. There is a platform-dependent default encoding, which on Unixy platforms can be set with the LANG environment variable (and sometimes also with some other platform-specific locale-related environment variables). In many cases, but not all, the system default is UTF-8; you should never count on this default. Any application reading or writing more than pure ASCII text should probably have a way to override the encoding. There is no longer any need for using the encoding-aware streams in the codecs module."
   ]
  },
  {
   "cell_type": "code",
   "execution_count": null,
   "id": "41e7b8c6",
   "metadata": {},
   "outputs": [],
   "source": []
  }
 ],
 "metadata": {
  "kernelspec": {
   "display_name": "Python 3",
   "language": "python",
   "name": "python3"
  },
  "language_info": {
   "codemirror_mode": {
    "name": "ipython",
    "version": 3
   },
   "file_extension": ".py",
   "mimetype": "text/x-python",
   "name": "python",
   "nbconvert_exporter": "python",
   "pygments_lexer": "ipython3",
   "version": "3.8.8"
  }
 },
 "nbformat": 4,
 "nbformat_minor": 5
}
